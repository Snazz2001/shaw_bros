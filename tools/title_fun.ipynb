{
 "cells": [
  {
   "cell_type": "code",
   "execution_count": 63,
   "metadata": {
    "collapsed": true
   },
   "outputs": [],
   "source": [
    "import json\n",
    "import argparse\n",
    "import os\n",
    "import random\n",
    "\n",
    "import gensim\n",
    "import nltk"
   ]
  },
  {
   "cell_type": "code",
   "execution_count": null,
   "metadata": {
    "collapsed": true
   },
   "outputs": [],
   "source": []
  },
  {
   "cell_type": "code",
   "execution_count": 3,
   "metadata": {
    "collapsed": false
   },
   "outputs": [
    {
     "name": "stdout",
     "output_type": "stream",
     "text": [
      ".\n"
     ]
    }
   ],
   "source": [
    "#CUR_DIR = os.path.dirname(os.path.realpath(__file__))\n",
    "CUR_DIR = \".\"\n",
    "print(CUR_DIR)"
   ]
  },
  {
   "cell_type": "code",
   "execution_count": 4,
   "metadata": {
    "collapsed": false
   },
   "outputs": [
    {
     "name": "stdout",
     "output_type": "stream",
     "text": [
      "loading model\n"
     ]
    }
   ],
   "source": [
    "# uses a ton of memory and takes a long time.\n",
    "print('loading model')\n",
    "model = gensim.models.Word2Vec.load_word2vec_format(os.path.join(CUR_DIR, '../model/GoogleNews-vectors-negative300.bin'), binary=True)\n"
   ]
  },
  {
   "cell_type": "code",
   "execution_count": 5,
   "metadata": {
    "collapsed": false
   },
   "outputs": [
    {
     "name": "stdout",
     "output_type": "stream",
     "text": [
      "[(u'queen', 0.7118192315101624), (u'monarch', 0.6189674139022827), (u'princess', 0.5902431011199951), (u'crown_prince', 0.5499460697174072), (u'prince', 0.5377321839332581), (u'kings', 0.5236844420433044), (u'Queen_Consort', 0.5235946178436279), (u'queens', 0.5181134343147278), (u'sultan', 0.5098593235015869), (u'monarchy', 0.5087412595748901)]\n"
     ]
    }
   ],
   "source": [
    "# test out model\n",
    "print(model.most_similar(positive = ['woman', 'king'], negative=['man']))\n"
   ]
  },
  {
   "cell_type": "code",
   "execution_count": 6,
   "metadata": {
    "collapsed": true
   },
   "outputs": [],
   "source": [
    "shaw_filename = os.path.join(CUR_DIR, '../data/shaw.json')\n",
    "shaw_data = json.loads(open(shaw_filename).read())"
   ]
  },
  {
   "cell_type": "code",
   "execution_count": 7,
   "metadata": {
    "collapsed": false
   },
   "outputs": [
    {
     "name": "stdout",
     "output_type": "stream",
     "text": [
      "Temple of the Red Lotus\n"
     ]
    }
   ],
   "source": [
    "film = shaw_data[0]\n",
    "print(film['title'])"
   ]
  },
  {
   "cell_type": "code",
   "execution_count": 62,
   "metadata": {
    "collapsed": false
   },
   "outputs": [
    {
     "ename": "NameError",
     "evalue": "name 'random' is not defined",
     "output_type": "error",
     "traceback": [
      "\u001b[0;31m---------------------------------------------------------------------------\u001b[0m",
      "\u001b[0;31mNameError\u001b[0m                                 Traceback (most recent call last)",
      "\u001b[0;32m<ipython-input-62-96c6a6cbda3f>\u001b[0m in \u001b[0;36m<module>\u001b[0;34m()\u001b[0m\n\u001b[0;32m----> 1\u001b[0;31m \u001b[0mindex\u001b[0m \u001b[0;34m=\u001b[0m \u001b[0mrandom\u001b[0m\u001b[0;34m.\u001b[0m\u001b[0mrandint\u001b[0m\u001b[0;34m(\u001b[0m\u001b[0;36m0\u001b[0m\u001b[0;34m,\u001b[0m\u001b[0;36m4\u001b[0m\u001b[0;34m)\u001b[0m\u001b[0;34m\u001b[0m\u001b[0m\n\u001b[0m",
      "\u001b[0;31mNameError\u001b[0m: name 'random' is not defined"
     ]
    }
   ],
   "source": [
    "index = random.randint(0,4)"
   ]
  },
  {
   "cell_type": "code",
   "execution_count": 64,
   "metadata": {
    "collapsed": false
   },
   "outputs": [],
   "source": [
    "def extract_most_similar(word, pos, neg):\n",
    "    most_sim = word\n",
    "    all_pos = pos + [word.lower()]\n",
    "    #sim = model.most_similar(positive = [text.lower(), 'America'], negative=['China'])\n",
    "    try:\n",
    "        sim = model.most_similar(positive = all_pos, negative = neg, topn=5)\n",
    "        index = random.randint(0,4)\n",
    "        most_sim = sim[index][0]\n",
    "    except:\n",
    "        print(\"fails on\", word)\n",
    "        \n",
    "    \n",
    "    most_sim_words = most_sim.split(\"_\")\n",
    "    most_sim_words = [w.capitalize() for w in most_sim_words]\n",
    "    \n",
    "    return \" \".join(most_sim_words)\n",
    "    \n",
    "def create_new_title(film, country = 'America', minus = 'China'):\n",
    "    #country = 'America'\n",
    "    \n",
    "    text = nltk.word_tokenize(film['title'])\n",
    "    tagged_text = nltk.pos_tag(text)\n",
    "    new_text = []\n",
    "    for text, tag in tagged_text:\n",
    "        if tag[0] == 'N':\n",
    "            #print(text)\n",
    "            new_text.append(extract_most_similar(text, [country], [minus]))\n",
    "            #print(sim)\n",
    "        else:\n",
    "            new_text.append(text)\n",
    "    return \" \".join(new_text)\n",
    "    "
   ]
  },
  {
   "cell_type": "code",
   "execution_count": 60,
   "metadata": {
    "collapsed": false
   },
   "outputs": [
    {
     "name": "stdout",
     "output_type": "stream",
     "text": [
      "The Winged Tiger\n",
      "('fails on', u'Winged')\n",
      "('fails on', u'Tiger')\n",
      "The Winged Tiger\n"
     ]
    }
   ],
   "source": [
    "def retitle_all(country = 'America'):\n",
    "    new_titles = []\n",
    "    out_name = country.lower() + '_titles.json'\n",
    "    for film in shaw_data:\n",
    "        new_title = create_new_title(film, country)\n",
    "        new_titles.append({'old': film['title'], 'new': new_title})\n",
    "    out_filename = os.path.join(CUR_DIR, '../data/titles', out_name)\n",
    "    with open(out_filename, 'w') as outfile:\n",
    "        json.dump(new_titles, outfile, sort_keys = False, indent = 2)\n",
    "        \n",
    "\n",
    "\n",
    "print(shaw_data[3]['title'])\n",
    "n = create_new_title(shaw_data[3], 'Germany')\n",
    "print(n)"
   ]
  },
  {
   "cell_type": "code",
   "execution_count": 65,
   "metadata": {
    "collapsed": false
   },
   "outputs": [
    {
     "name": "stdout",
     "output_type": "stream",
     "text": [
      "('fails on', u'Swordswomen')\n",
      "('fails on', u'Handlock')\n",
      "('fails on', u'A')\n",
      "('fails on', u'Kwangtung')\n",
      "('fails on', u'A')\n",
      "('fails on', u'Sabre')\n",
      "('fails on', u'Kwangtung')\n",
      "('fails on', u'Sabre')\n",
      "('fails on', u'Sabre')\n",
      "('fails on', u'Superfighters')\n",
      "('fails on', u'Judgement')\n",
      "('fails on', u'Inframan')\n",
      "('fails on', u'Snowgirl')\n",
      "('fails on', u'One-Armed')\n",
      "('fails on', u'Swordmates')\n",
      "('fails on', u'One-Armed')\n",
      "('fails on', u'Chang-An')\n"
     ]
    }
   ],
   "source": [
    "retitle_all('America')"
   ]
  },
  {
   "cell_type": "code",
   "execution_count": 66,
   "metadata": {
    "collapsed": false
   },
   "outputs": [
    {
     "name": "stdout",
     "output_type": "stream",
     "text": [
      "('fails on', u'Swordswomen')\n",
      "('fails on', u'Handlock')\n",
      "('fails on', u'A')\n",
      "('fails on', u'Kwangtung')\n",
      "('fails on', u'A')\n",
      "('fails on', u'Sabre')\n",
      "('fails on', u'Kwangtung')\n",
      "('fails on', u'Sabre')\n",
      "('fails on', u'Sabre')\n",
      "('fails on', u'Superfighters')\n",
      "('fails on', u'Judgement')\n",
      "('fails on', u'Inframan')\n",
      "('fails on', u'Snowgirl')\n",
      "('fails on', u'One-Armed')\n",
      "('fails on', u'Swordmates')\n",
      "('fails on', u'One-Armed')\n",
      "('fails on', u'Chang-An')\n"
     ]
    }
   ],
   "source": [
    "retitle_all('Germany')"
   ]
  },
  {
   "cell_type": "code",
   "execution_count": 67,
   "metadata": {
    "collapsed": false
   },
   "outputs": [
    {
     "name": "stdout",
     "output_type": "stream",
     "text": [
      "('fails on', u'Swordswomen')\n",
      "('fails on', u'Handlock')\n",
      "('fails on', u'A')\n",
      "('fails on', u'Kwangtung')\n",
      "('fails on', u'A')\n",
      "('fails on', u'Sabre')\n",
      "('fails on', u'Kwangtung')\n",
      "('fails on', u'Sabre')\n",
      "('fails on', u'Sabre')\n",
      "('fails on', u'Superfighters')\n",
      "('fails on', u'Judgement')\n",
      "('fails on', u'Inframan')\n",
      "('fails on', u'Snowgirl')\n",
      "('fails on', u'One-Armed')\n",
      "('fails on', u'Swordmates')\n",
      "('fails on', u'One-Armed')\n",
      "('fails on', u'Chang-An')\n"
     ]
    }
   ],
   "source": [
    "retitle_all('Australia')"
   ]
  },
  {
   "cell_type": "code",
   "execution_count": 68,
   "metadata": {
    "collapsed": false
   },
   "outputs": [
    {
     "name": "stdout",
     "output_type": "stream",
     "text": [
      "('fails on', u'Swordswomen')\n",
      "('fails on', u'Handlock')\n",
      "('fails on', u'A')\n",
      "('fails on', u'Kwangtung')\n",
      "('fails on', u'A')\n",
      "('fails on', u'Sabre')\n",
      "('fails on', u'Kwangtung')\n",
      "('fails on', u'Sabre')\n",
      "('fails on', u'Sabre')\n",
      "('fails on', u'Superfighters')\n",
      "('fails on', u'Judgement')\n",
      "('fails on', u'Inframan')\n",
      "('fails on', u'Snowgirl')\n",
      "('fails on', u'One-Armed')\n",
      "('fails on', u'Swordmates')\n",
      "('fails on', u'One-Armed')\n",
      "('fails on', u'Chang-An')\n"
     ]
    }
   ],
   "source": [
    "retitle_all('England')"
   ]
  },
  {
   "cell_type": "code",
   "execution_count": 51,
   "metadata": {
    "collapsed": false
   },
   "outputs": [
    {
     "name": "stdout",
     "output_type": "stream",
     "text": [
      "[(u'Chinese', 0.7678080797195435), (u'Beijing', 0.7648463249206543), (u'Taiwan', 0.7081156969070435), (u'Chinas', 0.6899173855781555), (u'Shanghai', 0.6727433204650879), (u'Guangdong', 0.6721152067184448), (u'Hainan', 0.6360341310501099), (u'China\\xe2_\\u20ac_\\u2122', 0.6301892399787903), (u'Hong_Kong', 0.624097466468811), (u'Shenzhen', 0.6239033937454224)]\n",
      "[(u'dinnerware', 0.6587947607040405), (u'crockery', 0.6426127552986145), (u'porcelain', 0.6392656564712524), (u'crystal_stemware', 0.6264337301254272), (u'chinaware', 0.6146420836448669), (u'china_plates', 0.614573061466217), (u'silver_flatware', 0.6102818250656128), (u'flatware', 0.6089655756950378), (u'bone_china', 0.6068582534790039), (u'tableware', 0.5923404693603516)]\n",
      "[(u'United_States', 0.6178410053253174), (u'American', 0.6116389632225037), (u'Amercia', 0.5794416666030884), (u'America\\xe2_\\u20ac_\\u2122', 0.5631463527679443), (u'Americaand', 0.5606889724731445), (u'Europe', 0.557948887348175), (u'Unites_States', 0.5455595254898071), (u'nation', 0.5346957445144653), (u'world', 0.5279377698898315), (u'Latin_America', 0.5253671407699585)]\n",
      "[(u'american', 0.7169356942176819), (u'americans', 0.7042055130004883), (u'europe', 0.6617691516876221), (u'usa', 0.661183774471283), (u'texas', 0.6593319177627563), (u'india', 0.6589399576187134), (u'africa', 0.6377725601196289), (u'mexico', 0.6325020790100098), (u'england', 0.6323367953300476), (u'obama', 0.6311532855033875)]\n"
     ]
    }
   ],
   "source": [
    "print(model.most_similar(positive=['China']))\n",
    "print(model.most_similar(positive=['china']))\n",
    "\n",
    "print(model.most_similar(positive=['America']))\n",
    "print(model.most_similar(positive=['america']))"
   ]
  },
  {
   "cell_type": "code",
   "execution_count": 53,
   "metadata": {
    "collapsed": false
   },
   "outputs": [
    {
     "name": "stdout",
     "output_type": "stream",
     "text": [
      "[(u'Austria', 0.7461062073707581), (u'German', 0.7178748846054077), (u'Germans', 0.6628648042678833), (u'Switzerland', 0.6506867408752441), (u'Hungary', 0.6504981517791748), (u'Germnay', 0.649348258972168), (u'Netherlands', 0.6437495946884155), (u'Cologne', 0.6430779099464417), (u'symbol_RSTI', 0.6389946341514587), (u'Annita_Kirsten', 0.634294867515564)]\n",
      "[(u'germany', 0.6809574961662292), (u'swedish', 0.6075987219810486), (u'european', 0.6000328660011292), (u'japanese', 0.5999273061752319), (u'German', 0.597421407699585), (u'dutch', 0.5903611779212952), (u'american', 0.5855186581611633), (u'british', 0.5771160125732422), (u'deutsch', 0.5699412822723389), (u'europe', 0.5624406933784485)]\n"
     ]
    }
   ],
   "source": [
    "print(model.most_similar(positive=['Germany']))\n",
    "print(model.most_similar(positive=['german']))"
   ]
  },
  {
   "cell_type": "code",
   "execution_count": 55,
   "metadata": {
    "collapsed": false
   },
   "outputs": [
    {
     "name": "stdout",
     "output_type": "stream",
     "text": [
      "[(u'TCL_Classic', 0.49862903356552124), (u'Zhang_Lian_Wei', 0.49592071771621704), (u'Zhang_Lianwei', 0.49239593744277954), (u'rookie_Shanshan_Feng', 0.49206018447875977), (u'Liang_Wenchong', 0.49055546522140503), (u'Liang_Wen_chong', 0.48627859354019165), (u'Yang_Hongmei', 0.4856409728527069), (u'Lian_Wei_Zhang', 0.4828934073448181), (u'Liang', 0.4797073006629944), (u'Zongliang', 0.47734758257865906)]\n"
     ]
    }
   ],
   "source": [
    "print(model.most_similar(positive=['eagle', 'China'], negative=['America']))"
   ]
  },
  {
   "cell_type": "code",
   "execution_count": 57,
   "metadata": {
    "collapsed": false
   },
   "outputs": [
    {
     "name": "stdout",
     "output_type": "stream",
     "text": [
      "[(u'chopstick', 0.5312042236328125), (u'chopsticks', 0.5063389539718628), (u'soup_spoon', 0.4930329918861389), (u'ladle', 0.4752044975757599), (u'glutinous_rice_flour', 0.4693165719509125), (u'kung_pao_chicken', 0.468014121055603), (u'Tao_Jiaming', 0.46592259407043457), (u'crab_roe', 0.4658964276313782), (u'Chinese', 0.46584686636924744), (u'slotted_spoon', 0.4636538028717041)]\n"
     ]
    }
   ],
   "source": [
    "print(model.most_similar(positive=['spoon', 'China'], negative=['America']))"
   ]
  },
  {
   "cell_type": "code",
   "execution_count": 25,
   "metadata": {
    "collapsed": false
   },
   "outputs": [
    {
     "name": "stdout",
     "output_type": "stream",
     "text": [
      "[(u'Temple', 'NN'), (u'of', 'IN'), (u'the', 'DT'), (u'Red', 'NNP'), (u'Lotus', 'NNP')]\n",
      "Temple\n",
      "[(u'black_eyed_susans', 0.3741646707057953), (u'Tradescantia', 0.3738454580307007), (u'trilliums', 0.3695296347141266), (u'Sanitizing_System', 0.36615896224975586), (u'trout_lilies', 0.36045974493026733), (u'ornamental_sweet_potato', 0.3595868647098541), (u'andromeda', 0.35832342505455017), (u'nasturtium', 0.3579365015029907), (u'hollyhock', 0.35730767250061035), (u'Helleborus', 0.3558405041694641)]\n",
      "Red\n",
      "[(u'black_eyed_susans', 0.3741646707057953), (u'Tradescantia', 0.3738454580307007), (u'trilliums', 0.3695296347141266), (u'Sanitizing_System', 0.36615896224975586), (u'trout_lilies', 0.36045974493026733), (u'ornamental_sweet_potato', 0.3595868647098541), (u'andromeda', 0.35832342505455017), (u'nasturtium', 0.3579365015029907), (u'hollyhock', 0.35730767250061035), (u'Helleborus', 0.3558405041694641)]\n",
      "Lotus\n",
      "[(u'black_eyed_susans', 0.3741646707057953), (u'Tradescantia', 0.3738454580307007), (u'trilliums', 0.3695296347141266), (u'Sanitizing_System', 0.36615896224975586), (u'trout_lilies', 0.36045974493026733), (u'ornamental_sweet_potato', 0.3595868647098541), (u'andromeda', 0.35832342505455017), (u'nasturtium', 0.3579365015029907), (u'hollyhock', 0.35730767250061035), (u'Helleborus', 0.3558405041694641)]\n",
      "[u'Temples', u'of', u'the', u'Yellow', u'Black Eyed Susans']\n"
     ]
    }
   ],
   "source": [
    "text = nltk.word_tokenize(film['title'])\n",
    "tagged_text = nltk.pos_tag(text)\n",
    "print(tagged_text)\n",
    "\n",
    "new_text = []\n",
    "country = 'America'\n",
    "\n",
    "for text, tag in tagged_text:\n",
    "    if tag[0] == 'N':\n",
    "        print(text)\n",
    "        new_text.append(extract_most_similar([text.lower(), country], ['China']))\n",
    "        print(sim)\n",
    "    else:\n",
    "        new_text.append(text)\n",
    "print new_text\n",
    "        \n",
    "    #break"
   ]
  }
 ],
 "metadata": {
  "kernelspec": {
   "display_name": "Python 2",
   "language": "python",
   "name": "python2"
  },
  "language_info": {
   "codemirror_mode": {
    "name": "ipython",
    "version": 2
   },
   "file_extension": ".py",
   "mimetype": "text/x-python",
   "name": "python",
   "nbconvert_exporter": "python",
   "pygments_lexer": "ipython2",
   "version": "2.7.13"
  }
 },
 "nbformat": 4,
 "nbformat_minor": 2
}
