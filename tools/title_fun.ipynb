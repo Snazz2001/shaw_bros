{
 "cells": [
  {
   "cell_type": "code",
   "execution_count": 63,
   "metadata": {
    "collapsed": true
   },
   "outputs": [],
   "source": [
    "import json\n",
    "import argparse\n",
    "import os\n",
    "import random\n",
    "\n",
    "import gensim\n",
    "import nltk"
   ]
  },
  {
   "cell_type": "code",
   "execution_count": null,
   "metadata": {
    "collapsed": true
   },
   "outputs": [],
   "source": []
  },
  {
   "cell_type": "code",
   "execution_count": 3,
   "metadata": {
    "collapsed": false
   },
   "outputs": [
    {
     "name": "stdout",
     "output_type": "stream",
     "text": [
      ".\n"
     ]
    }
   ],
   "source": [
    "#CUR_DIR = os.path.dirname(os.path.realpath(__file__))\n",
    "CUR_DIR = \".\"\n",
    "print(CUR_DIR)"
   ]
  },
  {
   "cell_type": "code",
   "execution_count": 4,
   "metadata": {
    "collapsed": false
   },
   "outputs": [
    {
     "name": "stdout",
     "output_type": "stream",
     "text": [
      "loading model\n"
     ]
    }
   ],
   "source": [
    "# uses a ton of memory and takes a long time.\n",
    "print('loading model')\n",
    "model = gensim.models.Word2Vec.load_word2vec_format(os.path.join(CUR_DIR, '../model/GoogleNews-vectors-negative300.bin'), binary=True)\n"
   ]
  },
  {
   "cell_type": "code",
   "execution_count": 5,
   "metadata": {
    "collapsed": false
   },
   "outputs": [
    {
     "name": "stdout",
     "output_type": "stream",
     "text": [
      "[(u'queen', 0.7118192315101624), (u'monarch', 0.6189674139022827), (u'princess', 0.5902431011199951), (u'crown_prince', 0.5499460697174072), (u'prince', 0.5377321839332581), (u'kings', 0.5236844420433044), (u'Queen_Consort', 0.5235946178436279), (u'queens', 0.5181134343147278), (u'sultan', 0.5098593235015869), (u'monarchy', 0.5087412595748901)]\n"
     ]
    }
   ],
   "source": [
    "# test out model\n",
    "print(model.most_similar(positive = ['woman', 'king'], negative=['man']))\n"
   ]
  },
  {
   "cell_type": "code",
   "execution_count": 88,
   "metadata": {
    "collapsed": true
   },
   "outputs": [],
   "source": [
    "# read in the shaw data\n",
    "shaw_filename = os.path.join(CUR_DIR, '../data/shaw.json')\n",
    "shaw_data = json.loads(open(shaw_filename).read())"
   ]
  },
  {
   "cell_type": "code",
   "execution_count": 89,
   "metadata": {
    "collapsed": false
   },
   "outputs": [
    {
     "name": "stdout",
     "output_type": "stream",
     "text": [
      "Temple of the Red Lotus\n"
     ]
    }
   ],
   "source": [
    "# ensure it is read in\n",
    "film = shaw_data[0]\n",
    "print(film['title'])"
   ]
  },
  {
   "cell_type": "code",
   "execution_count": 90,
   "metadata": {
    "collapsed": false
   },
   "outputs": [],
   "source": [
    "def extract_most_similar(word, pos, neg):\n",
    "    most_sim = word\n",
    "    all_pos = pos + [word.lower()]\n",
    "    #sim = model.most_similar(positive = [text.lower(), 'America'], negative=['China'])\n",
    "    try:\n",
    "        sim = model.most_similar(positive = all_pos, negative = neg, topn=5)\n",
    "        # randomly chosen from the top made for more confusing titles\n",
    "        #index = random.randint(0,4)\n",
    "        index = 0\n",
    "        most_sim = sim[index][0]\n",
    "    except:\n",
    "        print(\"fails on\", word)\n",
    "        \n",
    "    \n",
    "    most_sim_words = most_sim.split(\"_\")\n",
    "    most_sim_words = [w.capitalize() for w in most_sim_words]\n",
    "    \n",
    "    return \" \".join(most_sim_words)\n",
    "    \n",
    "def create_new_title(film, country = 'American', minus = 'Chinese'):\n",
    "    #country = 'America'\n",
    "    \n",
    "    text = nltk.word_tokenize(film['title'])\n",
    "    tagged_text = nltk.pos_tag(text)\n",
    "    new_text = []\n",
    "    for text, tag in tagged_text:\n",
    "        if tag[0] == 'N':\n",
    "            #print(text)\n",
    "            new_text.append(extract_most_similar(text, [country], [minus]))\n",
    "            #print(sim)\n",
    "        else:\n",
    "            new_text.append(text)\n",
    "    return \" \".join(new_text)\n",
    "    "
   ]
  },
  {
   "cell_type": "code",
   "execution_count": 97,
   "metadata": {
    "collapsed": false
   },
   "outputs": [
    {
     "name": "stdout",
     "output_type": "stream",
     "text": [
      "The Winged Tiger\n",
      "The Teutonic Rhino\n",
      "The Wingless Panther\n"
     ]
    }
   ],
   "source": [
    "def retitle_all(country = 'American'):\n",
    "    new_titles = []\n",
    "    out_name = country.lower() + '_titles.json'\n",
    "    for film in shaw_data:\n",
    "        new_title = create_new_title(film, country)\n",
    "        new_titles.append({'old': film['title'], 'new': new_title})\n",
    "    out_filename = os.path.join(CUR_DIR, '../data/titles', out_name)\n",
    "    with open(out_filename, 'w') as outfile:\n",
    "        json.dump(new_titles, outfile, sort_keys = False, indent = 2)\n",
    "        \n",
    "\n",
    "\n",
    "print(shaw_data[3]['title'])\n",
    "n = create_new_title(shaw_data[3], 'German')\n",
    "print(n)\n",
    "n = create_new_title(shaw_data[3], 'American')\n",
    "print(n)"
   ]
  },
  {
   "cell_type": "code",
   "execution_count": 92,
   "metadata": {
    "collapsed": false
   },
   "outputs": [
    {
     "name": "stdout",
     "output_type": "stream",
     "text": [
      "('fails on', u'Swordswomen')\n",
      "('fails on', u'Handlock')\n",
      "('fails on', u'A')\n",
      "('fails on', u'Kwangtung')\n",
      "('fails on', u'A')\n",
      "('fails on', u'Sabre')\n",
      "('fails on', u'Kwangtung')\n",
      "('fails on', u'Sabre')\n",
      "('fails on', u'Sabre')\n",
      "('fails on', u'Superfighters')\n",
      "('fails on', u'Judgement')\n",
      "('fails on', u'Inframan')\n",
      "('fails on', u'Snowgirl')\n",
      "('fails on', u'One-Armed')\n",
      "('fails on', u'Swordmates')\n",
      "('fails on', u'One-Armed')\n",
      "('fails on', u'Chang-An')\n"
     ]
    }
   ],
   "source": [
    "retitle_all('American')"
   ]
  },
  {
   "cell_type": "code",
   "execution_count": 93,
   "metadata": {
    "collapsed": false
   },
   "outputs": [
    {
     "name": "stdout",
     "output_type": "stream",
     "text": [
      "('fails on', u'Swordswomen')\n",
      "('fails on', u'Handlock')\n",
      "('fails on', u'A')\n",
      "('fails on', u'Kwangtung')\n",
      "('fails on', u'A')\n",
      "('fails on', u'Sabre')\n",
      "('fails on', u'Kwangtung')\n",
      "('fails on', u'Sabre')\n",
      "('fails on', u'Sabre')\n",
      "('fails on', u'Superfighters')\n",
      "('fails on', u'Judgement')\n",
      "('fails on', u'Inframan')\n",
      "('fails on', u'Snowgirl')\n",
      "('fails on', u'One-Armed')\n",
      "('fails on', u'Swordmates')\n",
      "('fails on', u'One-Armed')\n",
      "('fails on', u'Chang-An')\n"
     ]
    }
   ],
   "source": [
    "retitle_all('German')"
   ]
  },
  {
   "cell_type": "code",
   "execution_count": 94,
   "metadata": {
    "collapsed": false
   },
   "outputs": [
    {
     "name": "stdout",
     "output_type": "stream",
     "text": [
      "('fails on', u'Swordswomen')\n",
      "('fails on', u'Handlock')\n",
      "('fails on', u'A')\n",
      "('fails on', u'Kwangtung')\n",
      "('fails on', u'A')\n",
      "('fails on', u'Sabre')\n",
      "('fails on', u'Kwangtung')\n",
      "('fails on', u'Sabre')\n",
      "('fails on', u'Sabre')\n",
      "('fails on', u'Superfighters')\n",
      "('fails on', u'Judgement')\n",
      "('fails on', u'Inframan')\n",
      "('fails on', u'Snowgirl')\n",
      "('fails on', u'One-Armed')\n",
      "('fails on', u'Swordmates')\n",
      "('fails on', u'One-Armed')\n",
      "('fails on', u'Chang-An')\n"
     ]
    }
   ],
   "source": [
    "retitle_all('Australian')"
   ]
  },
  {
   "cell_type": "code",
   "execution_count": 95,
   "metadata": {
    "collapsed": false
   },
   "outputs": [
    {
     "name": "stdout",
     "output_type": "stream",
     "text": [
      "('fails on', u'Swordswomen')\n",
      "('fails on', u'Handlock')\n",
      "('fails on', u'A')\n",
      "('fails on', u'Kwangtung')\n",
      "('fails on', u'A')\n",
      "('fails on', u'Sabre')\n",
      "('fails on', u'Kwangtung')\n",
      "('fails on', u'Sabre')\n",
      "('fails on', u'Sabre')\n",
      "('fails on', u'Superfighters')\n",
      "('fails on', u'Judgement')\n",
      "('fails on', u'Inframan')\n",
      "('fails on', u'Snowgirl')\n",
      "('fails on', u'One-Armed')\n",
      "('fails on', u'Swordmates')\n",
      "('fails on', u'One-Armed')\n",
      "('fails on', u'Chang-An')\n"
     ]
    }
   ],
   "source": [
    "retitle_all('English')"
   ]
  },
  {
   "cell_type": "code",
   "execution_count": 98,
   "metadata": {
    "collapsed": false
   },
   "outputs": [
    {
     "name": "stdout",
     "output_type": "stream",
     "text": [
      "('fails on', u'Swordswomen')\n",
      "('fails on', u'Handlock')\n",
      "('fails on', u'A')\n",
      "('fails on', u'Kwangtung')\n",
      "('fails on', u'A')\n",
      "('fails on', u'Sabre')\n",
      "('fails on', u'Kwangtung')\n",
      "('fails on', u'Sabre')\n",
      "('fails on', u'Sabre')\n",
      "('fails on', u'Superfighters')\n",
      "('fails on', u'Judgement')\n",
      "('fails on', u'Inframan')\n",
      "('fails on', u'Snowgirl')\n",
      "('fails on', u'One-Armed')\n",
      "('fails on', u'Swordmates')\n",
      "('fails on', u'One-Armed')\n",
      "('fails on', u'Chang-An')\n"
     ]
    }
   ],
   "source": [
    "retitle_all('Turkish')"
   ]
  },
  {
   "cell_type": "markdown",
   "metadata": {},
   "source": [
    "Below is just more random exploration of the model."
   ]
  },
  {
   "cell_type": "code",
   "execution_count": 87,
   "metadata": {
    "collapsed": false
   },
   "outputs": [
    {
     "name": "stdout",
     "output_type": "stream",
     "text": [
      "[(u'Chinese', 0.7678080797195435), (u'Beijing', 0.7648463249206543), (u'Taiwan', 0.7081156969070435), (u'Chinas', 0.6899173855781555), (u'Shanghai', 0.6727433204650879), (u'Guangdong', 0.6721152067184448), (u'Hainan', 0.6360341310501099), (u'China\\xe2_\\u20ac_\\u2122', 0.6301892399787903), (u'Hong_Kong', 0.624097466468811), (u'Shenzhen', 0.6239033937454224)]\n",
      "[(u'China', 0.7678080797195435), (u'Taiwanese', 0.7435624599456787), (u'Beijing', 0.6758180856704712), (u'Zhang', 0.6612829566001892), (u'Li', 0.6447644829750061), (u'Zhou', 0.6439977288246155), (u'Japanese', 0.6422422528266907), (u'Xu', 0.6390734314918518), (u'Jiang', 0.6309375762939453), (u'Vietnamese', 0.6274450421333313)]\n",
      "[(u'United_States', 0.6178410053253174), (u'American', 0.6116389632225037), (u'Amercia', 0.5794416666030884), (u'America\\xe2_\\u20ac_\\u2122', 0.5631463527679443), (u'Americaand', 0.5606889724731445), (u'Europe', 0.557948887348175), (u'Unites_States', 0.5455595254898071), (u'nation', 0.5346957445144653), (u'world', 0.5279377698898315), (u'Latin_America', 0.5253671407699585)]\n",
      "[(u'Amercian', 0.690601110458374), (u'America', 0.6116389632225037), (u'Amercan', 0.561011552810669), (u'U.S.', 0.530948281288147), (u'Amer_ican', 0.5277948975563049), (u'Americans', 0.5179344415664673), (u'African', 0.5149515271186829), (u'Ameican', 0.5099471807479858), (u'British', 0.5004253387451172), (u'Canadian', 0.4892980456352234)]\n"
     ]
    }
   ],
   "source": [
    "print(model.most_similar(positive=['China']))\n",
    "print(model.most_similar(positive=['Chinese']))\n",
    "\n",
    "print(model.most_similar(positive=['America']))\n",
    "print(model.most_similar(positive=['American']))"
   ]
  },
  {
   "cell_type": "code",
   "execution_count": 86,
   "metadata": {
    "collapsed": false
   },
   "outputs": [
    {
     "name": "stdout",
     "output_type": "stream",
     "text": [
      "[(u'Austria', 0.7461062073707581), (u'German', 0.7178748846054077), (u'Germans', 0.6628648042678833), (u'Switzerland', 0.6506867408752441), (u'Hungary', 0.6504981517791748), (u'Germnay', 0.649348258972168), (u'Netherlands', 0.6437495946884155), (u'Cologne', 0.6430779099464417), (u'symbol_RSTI', 0.6389946341514587), (u'Annita_Kirsten', 0.634294867515564)]\n",
      "[(u'Austrian', 0.742125391960144), (u'Germany', 0.7178749442100525), (u'Germans', 0.6854615807533264), (u'Bavarian', 0.6802921295166016), (u'Hungarian', 0.6666134595870972), (u'Dutch', 0.6491715908050537), (u'Belgian', 0.6436907052993774), (u'Czech', 0.6359938979148865), (u'Polish', 0.6300821304321289), (u'Romanian', 0.6186450123786926)]\n"
     ]
    }
   ],
   "source": [
    "print(model.most_similar(positive=['Germany']))\n",
    "print(model.most_similar(positive=['German']))"
   ]
  },
  {
   "cell_type": "code",
   "execution_count": 85,
   "metadata": {
    "collapsed": false
   },
   "outputs": [
    {
     "name": "stdout",
     "output_type": "stream",
     "text": [
      "[(u'eagles', 0.5042415857315063), (u'zhu', 0.4769320785999298), (u'Liang_Wenchong', 0.46656209230422974), (u'Liang_Wen_chong', 0.4649501442909241), (u'Zhang_Lianwei', 0.45714402198791504), (u'Mount_Taishan', 0.4555661082267761), (u'bird_nest', 0.45367076992988586), (u'Chapchai', 0.45358550548553467), (u'Tseng', 0.45338496565818787), (u'Liang', 0.4519016742706299)]\n"
     ]
    }
   ],
   "source": [
    "print(model.most_similar(positive=['eagle', 'Chinese'], negative=['American']))"
   ]
  },
  {
   "cell_type": "code",
   "execution_count": 83,
   "metadata": {
    "collapsed": false
   },
   "outputs": [
    {
     "name": "stdout",
     "output_type": "stream",
     "text": [
      "[(u'chopstick', 0.5625050663948059), (u'chopsticks', 0.5227457284927368), (u'soup_spoon', 0.5137594938278198), (u'crab_roe', 0.5098376870155334), (u'cai', 0.5072115659713745), (u'glutinous_rice_balls', 0.5057233572006226), (u'glutinous_rice_flour', 0.5033949613571167), (u'tiao', 0.49486514925956726), (u'char_siew', 0.48833203315734863), (u'fried_noodles', 0.4866980314254761)]\n"
     ]
    }
   ],
   "source": [
    "print(model.most_similar(positive=['spoon', 'Chinese'], negative=['American']))"
   ]
  },
  {
   "cell_type": "code",
   "execution_count": 84,
   "metadata": {
    "collapsed": false
   },
   "outputs": [
    {
     "name": "stdout",
     "output_type": "stream",
     "text": [
      "[(u'God_fearin', 0.4062640070915222), (u'strutting_peacock', 0.4006575345993042), (u'devout_worshiper', 0.3999425768852234), (u'gaunt_bearded', 0.3902565538883209), (u'1Corinthians', 0.3865508437156677), (u'pantheist', 0.3863723874092102), (u'ZZ_Top_beard', 0.3850575089454651), (u'Hindoo', 0.38286125659942627), (u'Tradescantia', 0.38203465938568115), (u'idolater', 0.38102614879608154)]\n"
     ]
    }
   ],
   "source": [
    "print(model.most_similar(positive=['buddha', 'American'], negative=['Chinese']))"
   ]
  },
  {
   "cell_type": "code",
   "execution_count": 25,
   "metadata": {
    "collapsed": false
   },
   "outputs": [
    {
     "name": "stdout",
     "output_type": "stream",
     "text": [
      "[(u'Temple', 'NN'), (u'of', 'IN'), (u'the', 'DT'), (u'Red', 'NNP'), (u'Lotus', 'NNP')]\n",
      "Temple\n",
      "[(u'black_eyed_susans', 0.3741646707057953), (u'Tradescantia', 0.3738454580307007), (u'trilliums', 0.3695296347141266), (u'Sanitizing_System', 0.36615896224975586), (u'trout_lilies', 0.36045974493026733), (u'ornamental_sweet_potato', 0.3595868647098541), (u'andromeda', 0.35832342505455017), (u'nasturtium', 0.3579365015029907), (u'hollyhock', 0.35730767250061035), (u'Helleborus', 0.3558405041694641)]\n",
      "Red\n",
      "[(u'black_eyed_susans', 0.3741646707057953), (u'Tradescantia', 0.3738454580307007), (u'trilliums', 0.3695296347141266), (u'Sanitizing_System', 0.36615896224975586), (u'trout_lilies', 0.36045974493026733), (u'ornamental_sweet_potato', 0.3595868647098541), (u'andromeda', 0.35832342505455017), (u'nasturtium', 0.3579365015029907), (u'hollyhock', 0.35730767250061035), (u'Helleborus', 0.3558405041694641)]\n",
      "Lotus\n",
      "[(u'black_eyed_susans', 0.3741646707057953), (u'Tradescantia', 0.3738454580307007), (u'trilliums', 0.3695296347141266), (u'Sanitizing_System', 0.36615896224975586), (u'trout_lilies', 0.36045974493026733), (u'ornamental_sweet_potato', 0.3595868647098541), (u'andromeda', 0.35832342505455017), (u'nasturtium', 0.3579365015029907), (u'hollyhock', 0.35730767250061035), (u'Helleborus', 0.3558405041694641)]\n",
      "[u'Temples', u'of', u'the', u'Yellow', u'Black Eyed Susans']\n"
     ]
    }
   ],
   "source": [
    "text = nltk.word_tokenize(film['title'])\n",
    "tagged_text = nltk.pos_tag(text)\n",
    "print(tagged_text)\n",
    "\n",
    "new_text = []\n",
    "country = 'America'\n",
    "\n",
    "for text, tag in tagged_text:\n",
    "    if tag[0] == 'N':\n",
    "        print(text)\n",
    "        new_text.append(extract_most_similar([text.lower(), country], ['China']))\n",
    "        print(sim)\n",
    "    else:\n",
    "        new_text.append(text)\n",
    "print new_text\n",
    "        \n",
    "    #break"
   ]
  }
 ],
 "metadata": {
  "kernelspec": {
   "display_name": "Python 2",
   "language": "python",
   "name": "python2"
  },
  "language_info": {
   "codemirror_mode": {
    "name": "ipython",
    "version": 2
   },
   "file_extension": ".py",
   "mimetype": "text/x-python",
   "name": "python",
   "nbconvert_exporter": "python",
   "pygments_lexer": "ipython2",
   "version": "2.7.13"
  }
 },
 "nbformat": 4,
 "nbformat_minor": 2
}
